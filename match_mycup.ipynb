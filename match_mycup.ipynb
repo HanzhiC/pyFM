{
 "cells": [
  {
   "cell_type": "code",
   "execution_count": 3,
   "id": "40a670a9",
   "metadata": {},
   "outputs": [],
   "source": [
    "import numpy as np\n",
    "\n",
    "from pyFM.mesh import TriMesh\n",
    "from pyFM.functional import FunctionalMapping\n",
    "\n",
    "import meshplot as mp\n",
    "import trimesh\n",
    "import open3d as o3d\n",
    "\n",
    "def plot_mesh(myMesh,cmap=None):\n",
    "    mp.plot(myMesh.vertlist, myMesh.facelist,c=cmap)\n",
    "    \n",
    "def double_plot(myMesh1,myMesh2,cmap1=None,cmap2=None):\n",
    "    d = mp.subplot(myMesh1.vertlist, myMesh1.facelist, c=cmap1, s=[2, 2, 0])\n",
    "    mp.subplot(myMesh2.vertlist, myMesh2.facelist, c=cmap2, s=[2, 2, 1], data=d)\n",
    "\n",
    "def visu(vertices):\n",
    "    min_coord,max_coord = np.min(vertices,axis=0,keepdims=True),np.max(vertices,axis=0,keepdims=True)\n",
    "    cmap = (vertices-min_coord)/(max_coord-min_coord)\n",
    "    return (cmap * 255).astype(np.uint8)"
   ]
  },
  {
   "cell_type": "code",
   "execution_count": 6,
   "id": "6f257ccb",
   "metadata": {},
   "outputs": [
    {
     "name": "stdout",
     "output_type": "stream",
     "text": [
      "[Open3D INFO] WebRTC GUI backend enabled.\n"
     ]
    },
    {
     "ename": "RuntimeError",
     "evalue": "\u001b[1;31m[Open3D Error] (void open3d::visualization::gui::Application::SetWindowSystem(std::shared_ptr<open3d::visualization::gui::WindowSystem>)) /root/Open3D/cpp/open3d/visualization/gui/Application.cpp:344: Cannot set WindowSystem. It is already set.\n\u001b[0;m",
     "output_type": "error",
     "traceback": [
      "\u001b[0;31m---------------------------------------------------------------------------\u001b[0m",
      "\u001b[0;31mRuntimeError\u001b[0m                              Traceback (most recent call last)",
      "\u001b[0;32m/tmp/ipykernel_1391506/4257148976.py\u001b[0m in \u001b[0;36m<module>\u001b[0;34m\u001b[0m\n\u001b[0;32m----> 1\u001b[0;31m \u001b[0mo3d\u001b[0m\u001b[0;34m.\u001b[0m\u001b[0mvisualization\u001b[0m\u001b[0;34m.\u001b[0m\u001b[0mwebrtc_server\u001b[0m\u001b[0;34m.\u001b[0m\u001b[0menable_webrtc\u001b[0m\u001b[0;34m(\u001b[0m\u001b[0;34m)\u001b[0m\u001b[0;34m\u001b[0m\u001b[0;34m\u001b[0m\u001b[0m\n\u001b[0m",
      "\u001b[0;31mRuntimeError\u001b[0m: \u001b[1;31m[Open3D Error] (void open3d::visualization::gui::Application::SetWindowSystem(std::shared_ptr<open3d::visualization::gui::WindowSystem>)) /root/Open3D/cpp/open3d/visualization/gui/Application.cpp:344: Cannot set WindowSystem. It is already set.\n\u001b[0;m"
     ]
    }
   ],
   "source": [
    "o3d.visualization.webrtc_server.enable_webrtc()\n"
   ]
  },
  {
   "cell_type": "code",
   "execution_count": null,
   "id": "f24b4ea4",
   "metadata": {},
   "outputs": [
    {
     "name": "stdout",
     "output_type": "stream",
     "text": [
      "757\n",
      "[Open3D INFO] Window window_0 created.\n",
      "[Open3D INFO] EGL headless mode enabled.\n",
      "[Open3D INFO] ICE servers: [\"stun:stun.l.google.com:19302\", \"turn:user:password@34.69.27.100:3478\", \"turn:user:password@34.69.27.100:3478?transport=tcp\"]\n",
      "[Open3D INFO] Set WEBRTC_STUN_SERVER environment variable add a customized WebRTC STUN server.\n",
      "[Open3D INFO] WebRTC Jupyter handshake mode enabled.\n"
     ]
    }
   ],
   "source": [
    "# Acquiring submesh\n",
    "mesh_anno = trimesh.load('../gcasp_more/to_use_grasp_transfer/pred/mesh_0.obj')\n",
    "mesh_anno_verts = mesh_anno.vertices\n",
    "mesh_anno_faces = mesh_anno.faces\n",
    "\n",
    "prim_anno = np.load('../gcasp_more/to_use_grasp_transfer/attrs_0.npy')\n",
    "vert2prim_anno = np.load('../gcasp_more/to_use_grasp_transfer/correspondence_0.npy')\n",
    "prim_query = 28\n",
    "\n",
    "triangle_ids = np.arange(len(mesh_anno_faces))\n",
    "valid_face_ids = []\n",
    "for i_vert, vert in enumerate(np.array(mesh_anno.vertices)):\n",
    "    i_prim = vert2prim_anno[i_vert]\n",
    "    if i_prim == prim_query:\n",
    "        connected_triangles = np.logical_or(np.logical_or(\n",
    "                                        mesh_anno_faces[:, 0] == i_vert, \n",
    "                                        mesh_anno_faces[:, 1] == i_vert),\n",
    "                                        mesh_anno_faces[:, 2] == i_vert)\n",
    "        valid_face_id = triangle_ids[connected_triangles]\n",
    "        valid_face_ids += valid_face_id.tolist()\n",
    "\n",
    "        \n",
    "print(len(valid_face_ids))\n",
    "sub_mesh_prim = mesh_anno.submesh([valid_face_ids], append=True)\n",
    "mesh_o3d_prim = o3d.geometry.TriangleMesh(o3d.utility.Vector3dVector(sub_mesh_prim.vertices), \n",
    "                                     o3d.utility.Vector3iVector(sub_mesh_prim.faces))\n",
    "mesh_o3d = o3d.geometry.TriangleMesh(o3d.utility.Vector3dVector(mesh_anno.vertices), \n",
    "                                     o3d.utility.Vector3iVector(mesh_anno.faces))\n",
    "colors = np.ones_like(sub_mesh_prim.vertices) * 0.5\n",
    "colors[:, 0] = 255\n",
    "mesh_o3d_prim.vertex_colors = o3d.utility.Vector3dVector(colors)\n",
    "mesh_o3d_prim.compute_vertex_normals()\n",
    "mesh_o3d.compute_vertex_normals()\n",
    "o3d.visualization.draw([mesh_o3d_prim, mesh_o3d])"
   ]
  },
  {
   "cell_type": "code",
   "execution_count": null,
   "id": "e6773016",
   "metadata": {},
   "outputs": [],
   "source": []
  },
  {
   "cell_type": "code",
   "execution_count": null,
   "id": "0a2b2c46",
   "metadata": {},
   "outputs": [],
   "source": [
    "mesh1 = trimesh.load('../gcasp_more/to_use_grasp_transfer/pred/mesh_0.obj')\n",
    "mesh2 = trimesh.load('../gcasp_more/to_use_grasp_transfer/pred/mesh_2.obj')\n",
    "mesh1 = TriMesh(mesh1.vertices, mesh1.faces)\n",
    "mesh2 = TriMesh(mesh2.vertices, mesh2.faces)\n",
    "print(f'Mesh 1 : {mesh1.n_vertices:4d} vertices, {mesh1.n_faces:5d} faces\\n'\n",
    "      f'Mesh 2 : {mesh2.n_vertices:4d} vertices, {mesh2.n_faces:5d} faces')\n",
    "# double_plot(mesh1,mesh2)"
   ]
  },
  {
   "cell_type": "code",
   "execution_count": null,
   "id": "17aa681a",
   "metadata": {},
   "outputs": [],
   "source": []
  },
  {
   "cell_type": "code",
   "execution_count": null,
   "id": "f6a3c91f",
   "metadata": {},
   "outputs": [],
   "source": [
    "process_params = {\n",
    "    'n_ev': (35,35),  # Number of eigenvalues on source and Target\n",
    "    'landmarks': np.loadtxt('data/landmarks.txt',dtype=int)[:5],  # loading 5 landmarks\n",
    "    'subsample_step': 5,  # In order not to use too many descriptors\n",
    "    'descr_type': 'WKS',  # WKS or HKS\n",
    "}\n",
    "\n",
    "model = FunctionalMapping(mesh1,mesh2)\n",
    "model.preprocess(**process_params,verbose=True);"
   ]
  },
  {
   "cell_type": "code",
   "execution_count": null,
   "id": "8eada835",
   "metadata": {},
   "outputs": [],
   "source": [
    "fit_params = {\n",
    "    'w_descr': 1e0,\n",
    "    'w_lap': 1e-2,\n",
    "    'w_dcomm': 1e-1,\n",
    "    'w_orient': 0\n",
    "}\n",
    "\n",
    "\n",
    "\n",
    "model.fit(**fit_params, verbose=True)"
   ]
  },
  {
   "cell_type": "code",
   "execution_count": null,
   "id": "df7fbf86",
   "metadata": {},
   "outputs": [],
   "source": [
    "p2p_21 = model.get_p2p(n_jobs=1)\n",
    "# Mesh 1 : 7207 vertices, 14410 faces\n",
    "# Mesh 2 : 5000 vertices,  9996 faces\n",
    "\n",
    "cmap1 = visu(mesh1.vertlist); cmap2 = cmap1[p2p_21]\n",
    "# double_plot(mesh1,mesh2,cmap1,cmap2)\n",
    "\n",
    "m1 = trimesh.Trimesh(mesh1.vertlist, mesh1.facelist)\n",
    "m2 = trimesh.Trimesh(mesh2.vertlist, mesh2.facelist)\n",
    "\n",
    "m1.visual.vertex_colors = cmap1\n",
    "m2.visual.vertex_colors = cmap2\n",
    "corr = []\n",
    "i = 0\n",
    "for i2, v2 in enumerate(m2.vertices):\n",
    "    if i2 % 5000 == 0:\n",
    "        i1 = p2p_21[i2]\n",
    "        v1 = m1.vertices[i1]\n",
    "        line = np.concatenate((v1[None], v2[None]+np.array([2,0,0])[None]),axis=0)\n",
    "        corr.append(line[None]) \n",
    "corr = np.concatenate(corr, axis=0)\n",
    "corr_vis = trimesh.load_path(corr)\n",
    "colors = np.array([255, 0, 0, 255]).astype(np.uint8)[None].repeat(len(corr_vis.entities), axis=0)\n",
    "print(colors.shape, len(corr_vis.entities))\n",
    "corr_vis.colors = colors\n",
    "trimesh.Scene([m1, m2.apply_translation([2,0,0]), corr_vis]).show()\n"
   ]
  },
  {
   "cell_type": "code",
   "execution_count": null,
   "id": "6bb17422",
   "metadata": {},
   "outputs": [],
   "source": []
  },
  {
   "cell_type": "code",
   "execution_count": null,
   "id": "c3cdb1ce",
   "metadata": {},
   "outputs": [],
   "source": []
  }
 ],
 "metadata": {
  "kernelspec": {
   "display_name": "Python 3 (ipykernel)",
   "language": "python",
   "name": "python3"
  },
  "language_info": {
   "codemirror_mode": {
    "name": "ipython",
    "version": 3
   },
   "file_extension": ".py",
   "mimetype": "text/x-python",
   "name": "python",
   "nbconvert_exporter": "python",
   "pygments_lexer": "ipython3",
   "version": "3.7.12"
  }
 },
 "nbformat": 4,
 "nbformat_minor": 5
}
