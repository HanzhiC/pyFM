{
 "cells": [
  {
   "cell_type": "code",
   "execution_count": 6,
   "id": "7b78fef2",
   "metadata": {},
   "outputs": [],
   "source": [
    "import trimesh\n",
    "import numpy as np"
   ]
  },
  {
   "cell_type": "code",
   "execution_count": 10,
   "id": "ced35377",
   "metadata": {},
   "outputs": [],
   "source": [
    "\n",
    "for shape_id in range(3):\n",
    "    mesh_tmp = trimesh.load('to_use_grasp_transfer/pred/mesh_{}.obj'.format(shape_id))\n",
    "    center_points = (mesh_tmp.bounds[1] + mesh_tmp.bounds[0]) / 2\n",
    "    t = -center_points\n",
    "    trans1 = np.eye(4)\n",
    "    mesh_tmp.apply_transform(trans1)\n",
    "    norms = np.linalg.norm(mesh_tmp.bounds[1] - mesh_tmp.bounds[0])\n",
    "    mesh_tmp.apply_scale(1 / norms)\n",
    "    mesh_tmp.export('to_use_grasp_transfer/pred/mesh_{}_rescale.obj'.format(shape_id))"
   ]
  },
  {
   "cell_type": "code",
   "execution_count": 17,
   "id": "f4521e0e",
   "metadata": {},
   "outputs": [],
   "source": [
    "import open3d as o3d\n",
    "from utils import trimesh_to_o3d"
   ]
  },
  {
   "cell_type": "code",
   "execution_count": 21,
   "id": "82860ee2",
   "metadata": {},
   "outputs": [],
   "source": [
    "mesh = trimesh.load('to_use_grasp_transfer/trans/shape_214dbcace712e49de195a69ef7c885a4.obj')\n",
    "points = np.load('to_use_grasp_transfer/pointcloud.npz')['points']\n",
    "pcd = o3d.geometry.PointCloud()\n",
    "pcd.points = o3d.utility.Vector3dVector(points)\n",
    "mesh = trimesh_to_o3d(mesh)\n",
    "o3d.visualization.draw_geometries([mesh, pcd])"
   ]
  }
 ],
 "metadata": {
  "kernelspec": {
   "display_name": "Python 3 (ipykernel)",
   "language": "python",
   "name": "python3"
  },
  "language_info": {
   "codemirror_mode": {
    "name": "ipython",
    "version": 3
   },
   "file_extension": ".py",
   "mimetype": "text/x-python",
   "name": "python",
   "nbconvert_exporter": "python",
   "pygments_lexer": "ipython3",
   "version": "3.7.15"
  }
 },
 "nbformat": 4,
 "nbformat_minor": 5
}
