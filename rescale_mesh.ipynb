{
 "cells": [
  {
   "cell_type": "code",
   "execution_count": 7,
   "id": "7b78fef2",
   "metadata": {},
   "outputs": [],
   "source": [
    "import trimesh\n",
    "import numpy as np\n",
    "from utils import *"
   ]
  },
  {
   "cell_type": "code",
   "execution_count": 9,
   "id": "ced35377",
   "metadata": {},
   "outputs": [],
   "source": [
    "\n",
    "# for shape_id in range(3):\n",
    "#     mesh_tmp = trimesh.load('to_use_grasp_transfer/pred/mesh_{}.obj'.format(shape_id))\n",
    "#     center_points = (mesh_tmp.bounds[1] + mesh_tmp.bounds[0]) / 2\n",
    "#     t = -center_points\n",
    "#     trans1 = np.eye(4)\n",
    "#     mesh_tmp.apply_transform(trans1)\n",
    "#     norms = np.linalg.norm(mesh_tmp.bounds[1] - mesh_tmp.bounds[0])\n",
    "#     mesh_tmp.apply_scale(1 / norms)\n",
    "#     mesh_tmp.export('to_use_grasp_transfer/pred/mesh_{}_rescale.obj'.format(shape_id))"
   ]
  },
  {
   "cell_type": "code",
   "execution_count": 8,
   "id": "f4521e0e",
   "metadata": {},
   "outputs": [],
   "source": [
    "import open3d as o3d\n",
    "from utils import trimesh_to_o3d"
   ]
  },
  {
   "cell_type": "code",
   "execution_count": 23,
   "id": "82860ee2",
   "metadata": {},
   "outputs": [],
   "source": [
    "mesh = trimesh.load('to_use_grasp_transfer/train/mesh_2.off')\n",
    "points = np.load('to_use_grasp_transfer/train_mugs_prim/2.npz')['pointcloud']\n",
    "primitives = np.load('to_use_grasp_transfer/train_mugs_prim/2.npz')['primitives']\n",
    "pcd = o3d.geometry.PointCloud()\n",
    "pcd.points = o3d.utility.Vector3dVector(points)\n",
    "mesh = trimesh_to_o3d(mesh)\n",
    "prim_colors = random_colors(256)\n",
    "\n",
    "prims_o3d = []\n",
    "for i, p in enumerate(primitives):\n",
    "    if p.sum() < 10000:\n",
    "        prim_o3d = o3d.geometry.TriangleMesh.create_sphere()\n",
    "        prim_o3d.compute_vertex_normals()\n",
    "        prim_o3d.scale(0.03, [0,0,0])\n",
    "        prim_o3d.translate(p)\n",
    "        prim_o3d.paint_uniform_color(prim_colors[i])\n",
    "        prims_o3d.append(prim_o3d)\n",
    "pred_prim = [mesh, pcd]+prims_o3d"
   ]
  },
  {
   "cell_type": "code",
   "execution_count": 25,
   "id": "1362bfbd",
   "metadata": {},
   "outputs": [],
   "source": [
    "mesh = trimesh.load('to_use_grasp_transfer/template/shape.obj')\n",
    "points = np.load('to_use_grasp_transfer/template/prim_seg.npz')['pointcloud']\n",
    "primitives = np.load('to_use_grasp_transfer/template/prim_seg.npz')['primitives']\n",
    "pcd = o3d.geometry.PointCloud()\n",
    "pcd.points = o3d.utility.Vector3dVector(points)\n",
    "mesh = trimesh_to_o3d(mesh)\n",
    "prim_colors = random_colors(256)\n",
    "mesh.translate([0,0,1])\n",
    "prims_o3d = []\n",
    "for i, p in enumerate(primitives):\n",
    "    if p.sum() < 10000:\n",
    "        prim_o3d = o3d.geometry.TriangleMesh.create_sphere()\n",
    "        prim_o3d.compute_vertex_normals()\n",
    "        prim_o3d.scale(0.03, [0,0,0])\n",
    "        prim_o3d.translate(p)\n",
    "        prim_o3d.translate([0,0,1])\n",
    "        prim_o3d.paint_uniform_color(prim_colors[i])\n",
    "        prims_o3d.append(prim_o3d)\n",
    "temp_prim = [mesh, pcd]+prims_o3d\n"
   ]
  },
  {
   "cell_type": "code",
   "execution_count": 26,
   "id": "a3ff8418",
   "metadata": {},
   "outputs": [],
   "source": [
    "o3d.visualization.draw_geometries(temp_prim+pred_prim)"
   ]
  }
 ],
 "metadata": {
  "kernelspec": {
   "display_name": "Python 3 (ipykernel)",
   "language": "python",
   "name": "python3"
  },
  "language_info": {
   "codemirror_mode": {
    "name": "ipython",
    "version": 3
   },
   "file_extension": ".py",
   "mimetype": "text/x-python",
   "name": "python",
   "nbconvert_exporter": "python",
   "pygments_lexer": "ipython3",
   "version": "3.7.15"
  }
 },
 "nbformat": 4,
 "nbformat_minor": 5
}
